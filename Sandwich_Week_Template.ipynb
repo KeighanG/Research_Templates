{
 "cells": [
  {
   "cell_type": "markdown",
   "id": "8e036b91-6f35-4896-b18d-5be54162358a",
   "metadata": {},
   "source": [
    "# Sandwich week 2023 singlet oxygen experiment template:\n",
    "- Make red to be sample 1\n",
    "- Make green to be sample 2"
   ]
  },
  {
   "cell_type": "markdown",
   "id": "38f5297d-4ad1-497a-847d-07e2b61207cb",
   "metadata": {},
   "source": [
    "# Things to note before using this template\n",
    "- You will need to upload UV-Vis absorbance data and manually input HPLC integration data (in the 7th executable cell with code) \n",
    "- Make sure you upload the csv data files from UV-Vis, they should work in the format that the UV-Vis software provides them, otherwise convert it to UTF-8 encoded csv files (but only if you need to, its easier to just upload the files directly from UV-Vis)\n",
    "- Everywhere there is _____ , change a name to match the name of your file\n",
    "- When you are pulling out the absorbance data, change the \"unnamed\" variables to match the measurements you took \n",
    "\n",
    "- Any questions/comments/suggestions can be sent to Keighan Gemmell (keighan@chem.ubc.ca) \n",
    "- Last updated on June 21st, 2023"
   ]
  },
  {
   "cell_type": "markdown",
   "id": "0ee1a70a-5070-4567-a44c-cedb78968137",
   "metadata": {},
   "source": [
    "# Import Packages"
   ]
  },
  {
   "cell_type": "code",
   "execution_count": 1,
   "id": "f626f4bf-9459-4add-bffd-66686e8e02cc",
   "metadata": {},
   "outputs": [],
   "source": [
    "import matplotlib.pyplot as plt \n",
    "import pandas as pd\n",
    "import numpy as np\n",
    "import math"
   ]
  },
  {
   "cell_type": "markdown",
   "id": "5e6768a3-5083-4164-b17f-231e698d966d",
   "metadata": {},
   "source": [
    "# Read in the UV-Vis data as a CSV File"
   ]
  },
  {
   "cell_type": "code",
   "execution_count": null,
   "id": "9e50962c-75b2-4214-add3-3ef9fe13a5ce",
   "metadata": {},
   "outputs": [],
   "source": [
    "#First you will need to upload your csv file to this server\n",
    "#then read in csv file as pandas dataframe, skipping the 2nd row\n",
    "df = pd.read_csv('_____.csv', skiprows=[1]) #change the name of the csv file to the name of the file you imported\n",
    "\n",
    "#this will output the table again from pandas (pd). make sure you are pulling out the correct data in the next block of code\n",
    "df\n"
   ]
  },
  {
   "cell_type": "code",
   "execution_count": null,
   "id": "f5e1a050-ea38-4e2a-ae52-a404c9644249",
   "metadata": {},
   "outputs": [],
   "source": [
    "wavelength=np.linspace(800,200,601) #make wavelength array\n",
    "\n",
    "#Note: It's weird, but when reading in the csv file to python, it sometimes auto-names the samples to \"unnamed: #\" \n",
    "#extract absorbances (remember that because of the layout of the csv file the absorbances will sometimes be \n",
    "#named \"Unnamed: x (odd number). Just check that you are indexing the correct names when assigning variables\n",
    "sample1_abs = df['Unnamed: x'] \n",
    "sample2_abs = df['Unnamed: x'] \n",
    "blank_abs = df['Unnamed: x']\n",
    "PN_abs = df['Unnamed: x']\n",
    "\n",
    "#change all absorbances to type 'float' for ease of calculations \n",
    "sample1_abs=sample1_abs.astype(float)\n",
    "sample2_abs=sample2_abs.astype(float)\n",
    "blank_abs=blank_abs.astype(float)\n",
    "PN_abs=PN_abs.astype(float)"
   ]
  },
  {
   "cell_type": "markdown",
   "id": "8be493da-f08b-4402-b10a-a8461f1296e0",
   "metadata": {},
   "source": [
    "# Read in the Irradiance Data from Actinometry "
   ]
  },
  {
   "cell_type": "code",
   "execution_count": null,
   "id": "685e1ae8-f7fa-420f-aa47-faee92e8fd0e",
   "metadata": {},
   "outputs": [],
   "source": [
    "#This is set up for the file I used at the time, modify it for your actinometry file\n",
    "dfIrr = pd.read_csv('1O2 Quantum Yield Template.csv', skiprows=[1])\n",
    "Irr=dfIrr['Unnamed: 4']\n",
    "n=3\n",
    "Irr=Irr[n:604]\n",
    "Irr=Irr.astype(float) "
   ]
  },
  {
   "cell_type": "markdown",
   "id": "d7117a17-6ba4-4cfc-bab5-23460f28e6fb",
   "metadata": {},
   "source": [
    "# Do the Absorbance Correction Here"
   ]
  },
  {
   "cell_type": "code",
   "execution_count": null,
   "id": "98b0105e-9e57-4bcf-adef-8c250a8c2eaf",
   "metadata": {
    "tags": []
   },
   "outputs": [],
   "source": [
    "#Do the absorbance corrections\n",
    "#correct for the baseline\n",
    "PN_abs=PN_abs-blank_abs\n",
    "sample1_abs=sample1_abs-blank_abs\n",
    "sample2_abs=sample2_abs-blank_abs\n",
    "\n",
    "#Find where Irradiation starts to be more than noise \n",
    "index_irr=np.argmax(Irr>100) #here I choose 100 as the threshold value for irradiation to be non-negligable \n",
    "\n",
    "#Subset 800nm to this wavelength in the absorbance to average for correction\n",
    "#I start from 0 because in the wavelength array 800nm is in the 0th position\n",
    "sample1_abs_subset=sample1_abs[0:index_irr]\n",
    "sample2_abs_subset=sample2_abs[0:index_irr]\n",
    "PN_abs_subset=PN_abs[0:index_irr]\n",
    "\n",
    "#Take the mean\n",
    "sample1_mean_correction=np.mean(sample1_abs_subset)\n",
    "sample2_mean_correction=np.mean(sample2_abs_subset)\n",
    "PN_mean_correction=np.mean(PN_abs_subset)\n",
    "\n",
    "#Subtract to apply the correction\n",
    "sample1_abs=sample1_abs-sample1_mean_correction\n",
    "sample2_abs=sample2_abs-sample2_mean_correction\n",
    "PN_abs=PN_abs-PN_mean_correction"
   ]
  },
  {
   "cell_type": "markdown",
   "id": "9be415b3-70bc-4e6d-bfbc-d1e43f939219",
   "metadata": {},
   "source": [
    "# Plot the UV-Vis Data"
   ]
  },
  {
   "cell_type": "code",
   "execution_count": null,
   "id": "633b6aad-d602-4d81-94b4-d497bc08ad36",
   "metadata": {},
   "outputs": [],
   "source": [
    "# Plot the absorbance as a function of wavelength for each sample\n",
    "fig,ax1=plt.subplots(figsize=(10,6))\n",
    "\n",
    "#add twin axis to plot absorbance and irradiance \n",
    "ax2=ax1.twinx()\n",
    "\n",
    "ax1.plot(wavelength, sample1_abs,'r', label='Red food colouring')\n",
    "ax1.plot(wavelength, sample2_abs,'g',label='Green food colouring')\n",
    "ax1.plot(wavelength, PN_abs, label='PN')\n",
    "\n",
    "ax2.plot(wavelength,Irr,'k--',label='Irradiance')\n",
    "\n",
    "#Modify the above plotting code to the \"after irradiance\" variables if you want to see that too\n",
    "# Add a legend and axis labels\n",
    "ax1.legend()\n",
    "ax2.legend(loc='center right')\n",
    "ax1.set_xlabel('Wavelength (nm)')\n",
    "ax1.set_ylabel('Absorbance')\n",
    "ax2.set_ylabel('Irradiance ($uWcm^{-2}nm^{-1}$)')\n",
    "ax1.set_title('Sandwich Week UV-Vis Results!')\n",
    "\n",
    "#you can limit the axes here if you want to look at a specific region of the plot\n",
    "#ax1.set_xlim(left=250, right=500) \n",
    "#ax1.set_ylim(top=1.5)\n",
    "\n",
    "#set the bottom of the figure to 0\n",
    "ax1.set_ylim(bottom=0)\n",
    "ax2.set_ylim(bottom=0)\n",
    "\n",
    "# Show the plot\n",
    "fig.show()\n",
    "\n",
    "#fig.savefig('____.png') #save the figure here if you want"
   ]
  },
  {
   "cell_type": "markdown",
   "id": "edefc6d9-e4f8-4da6-8644-c2ae2281ad88",
   "metadata": {},
   "source": [
    "# Put in your HPLC data here, will need to change times based on your sampling times "
   ]
  },
  {
   "cell_type": "code",
   "execution_count": null,
   "id": "1df0ef19-ce74-4b04-ad52-f5b4397811e5",
   "metadata": {},
   "outputs": [],
   "source": [
    "#Change times to match your times of sampling\n",
    "times=np.array([0, 4, 16, 32, 60])*60 #put in times and convert to seconds\n",
    "PNtime=np.array([0, 1, 2, 4, 8])*60 #put in times and convert to seconds\n",
    "\n",
    "#Put in HPLC Results Here\n",
    "sample1=[, , , ,]\n",
    "\n",
    "sample2=[, , , ,]\n",
    "\n",
    "blank=[, , , ,]\n",
    "\n",
    "PN=[, , , ,]"
   ]
  },
  {
   "cell_type": "markdown",
   "id": "b00409ce-6b1d-4d90-94d7-7389cbdacb48",
   "metadata": {},
   "source": [
    "# Calculate ln(FFAt/FFA0) here"
   ]
  },
  {
   "attachments": {
    "1b56cfd5-4050-4962-9f92-7839d954d972.png": {
     "image/png": "[encoded data removed]"
    }
   },
   "cell_type": "markdown",
   "id": "874c1957-3709-4dea-b22e-fef7c029a134",
   "metadata": {},
   "source": [
    "![lnFFA.png](attachment:1b56cfd5-4050-4962-9f92-7839d954d972.png)"
   ]
  },
  {
   "cell_type": "code",
   "execution_count": null,
   "id": "a6ce2dc4-0ed8-4d94-9ad2-bf3fb28e2719",
   "metadata": {},
   "outputs": [],
   "source": [
    "#Don't worry, np.log is the natural logorithm, not base 10 (np.log10 is base 10)\n",
    "sample1log=np.log([i/sample1[0] for i in sample1])\n",
    "sample2log=np.log([i/sample2[0] for i in sample2])\n",
    "PNlog=np.log([i/PN[0] for i in PN])"
   ]
  },
  {
   "cell_type": "markdown",
   "id": "8592434d-6389-48fe-937c-2d18b6160d09",
   "metadata": {},
   "source": [
    "# Obtain the slope using a 1st degree polynomial fit function "
   ]
  },
  {
   "attachments": {
    "f99e0dcd-fc70-4e27-bdfd-db1dae1b470d.png": {
     "image/png": "[encoded data removed]"
    }
   },
   "cell_type": "markdown",
   "id": "50804c68-4608-42d1-83f1-d6d8f720a27e",
   "metadata": {},
   "source": [
    "![Kobs.png](attachment:f99e0dcd-fc70-4e27-bdfd-db1dae1b470d.png)"
   ]
  },
  {
   "cell_type": "code",
   "execution_count": null,
   "id": "deaafe90-8a7f-47be-8e2b-e2dc140bc66d",
   "metadata": {},
   "outputs": [],
   "source": [
    "#Obtain slope for all lines for quantum yield calculation, then take the negative to get kobs\n",
    "#the [0] indicates I am pulling out the slope, i.e \"m\" in y=mx+b\n",
    "kobs1=-(np.polyfit(times,sample1log,1)[0])\n",
    "kobs2=-(np.polyfit(times,sample2log,1)[0])\n",
    "kobsPN=-(np.polyfit(PNtime,PNlog,1)[0])"
   ]
  },
  {
   "cell_type": "code",
   "execution_count": null,
   "id": "c1c7fd0c-9910-4330-9f94-9b36fea0a4c7",
   "metadata": {},
   "outputs": [],
   "source": [
    "#Check that the intercept (\"b\" in y=mx+b) is not too large\n",
    "#If the intercept is large, this indicates that psuedo first order kinetics is not a suitable approximation \n",
    "print(np.polyfit(times,sample1log,1)[1])\n",
    "print(np.polyfit(times,sample2log,1)[1])\n",
    "print(np.polyfit(PNtime,PNlog,1)[1])"
   ]
  },
  {
   "cell_type": "markdown",
   "id": "ae92b4bc-6e89-45c7-8532-200f43d7af61",
   "metadata": {},
   "source": [
    "# Plot HPLC Results"
   ]
  },
  {
   "cell_type": "code",
   "execution_count": null,
   "id": "6085ec49-dcc6-4a11-b6c8-0f9b7ac58084",
   "metadata": {},
   "outputs": [],
   "source": [
    "#Plot the results\n",
    "#Change colour code to match the colour of your food colouring or else it will be very confusing!!!! \n",
    "#Ask me how to do this if you are unsure\n",
    "\n",
    "plt.plot(times,sample1log,'ro',label='Red food colouring')\n",
    "plt.plot(times,times*(-kobs1),'r--')\n",
    "\n",
    "plt.plot(times,sample2log,'go',label='Green food colouring')\n",
    "plt.plot(times,times*(-kobs2),'g--')\n",
    "\n",
    "#Plot legend and axis labels\n",
    "plt.legend(loc='upper center', bbox_to_anchor=(0.5, 1.1),\n",
    "          ncol=3, fancybox=True, shadow=True)\n",
    "plt.ylabel('ln(${[FFA]_t}$/${[FFA]_0}$)')\n",
    "plt.xlabel('Irradiation time (sec)')\n",
    "plt.show()\n"
   ]
  },
  {
   "cell_type": "markdown",
   "id": "9ce50876-669a-4b74-a814-ceb248605ea0",
   "metadata": {},
   "source": [
    "# Equations for Samples"
   ]
  },
  {
   "attachments": {
    "792ec54b-25a6-4dff-bc90-de3187d15665.png": {
     "image/png": "[encoded data removed]"
    }
   },
   "cell_type": "markdown",
   "id": "10cc4b2c-7062-4d69-bf71-ccda3db257c2",
   "metadata": {},
   "source": [
    "![Rabs.png](attachment:792ec54b-25a6-4dff-bc90-de3187d15665.png)"
   ]
  },
  {
   "cell_type": "code",
   "execution_count": null,
   "id": "ecc4441f-4e86-4538-b503-690a07ed0346",
   "metadata": {},
   "outputs": [],
   "source": [
    "#Sample 1\n",
    "pathlength=1 #put in pathlength of cuvette\n",
    "\n",
    "alpha1= sample1_abs  #put in the absorbance array from UV-Vis \n",
    "\n",
    "sf_samp1=(1-10**(-alpha1*pathlength))/(2.303*alpha1*pathlength) #screening factor: alpha is the absorbance \n",
    "\n",
    "R_abs_samp1 = np.sum(Irr  * alpha1 * sf_samp1)\n"
   ]
  },
  {
   "cell_type": "code",
   "execution_count": null,
   "id": "d3fcf9d3-f4f6-4664-8dee-97b9b21baf4f",
   "metadata": {},
   "outputs": [],
   "source": [
    "#Sample 2\n",
    "pathlength=1 #put in pathlength of cuvette\n",
    "\n",
    "alpha2= sample2_abs  #put in the absorbance array from UV-Vis \n",
    "\n",
    "sf_samp2=(1-10**(-alpha2*pathlength))/(2.303*alpha2*pathlength) #screening factor: alpha is the absorbance \n",
    "\n",
    "R_abs_samp2 = np.sum(Irr  * alpha2 * sf_samp2)\n"
   ]
  },
  {
   "cell_type": "markdown",
   "id": "6df38bf9-f6d7-4152-beaa-d120e47dc518",
   "metadata": {},
   "source": [
    "# Equations for PN (Reference) "
   ]
  },
  {
   "cell_type": "code",
   "execution_count": null,
   "id": "e05aa774-98c8-409e-8c2f-8ce772eeb0ee",
   "metadata": {},
   "outputs": [],
   "source": [
    "alphaPN=PN_abs #put in the absorbance array from UV-Vis \n",
    "\n",
    "sf_PN=(1-10**(-alphaPN*pathlength))/(2.303*alphaPN*pathlength) #screening factor: alpha is the absorbance \n",
    "\n",
    "R_abs_PN = np.sum(Irr * alphaPN * sf_PN)"
   ]
  },
  {
   "cell_type": "markdown",
   "id": "88d006c5-7f55-4ef0-927a-bdabf9916fab",
   "metadata": {},
   "source": [
    "# Final Quantum Yield Calculation"
   ]
  },
  {
   "attachments": {
    "e303121d-66b2-4615-86e7-7ad417a6e3f2.png": {
     "image/png": "[encoded data removed]"
    }
   },
   "cell_type": "markdown",
   "id": "634445cc-4c12-4cc5-bf55-046db43e8375",
   "metadata": {},
   "source": [
    "![quantumyield.png](attachment:e303121d-66b2-4615-86e7-7ad417a6e3f2.png)"
   ]
  },
  {
   "cell_type": "code",
   "execution_count": null,
   "id": "df30a4ec-d00f-4b54-8bb8-010f93d7f3bc",
   "metadata": {},
   "outputs": [],
   "source": [
    "Phi_PN=1 #from Schweitzer and Schmidt \n",
    "\n",
    "Phi_1O2_samp1 = (kobs1 / kobsPN) * (R_abs_PN / R_abs_samp1) * Phi_PN\n",
    "print('Red Quantum Yield:', Phi_1O2_samp1)\n",
    "\n",
    "Phi_1O2_samp2 = (kobs2 / kobsPN) * (R_abs_PN / R_abs_samp2) * Phi_PN\n",
    "print('Green Quantum Yield:', Phi_1O2_samp2)\n",
    "\n",
    "#Multiply these values by 100 for a % quantum yield "
   ]
  },
  {
   "cell_type": "markdown",
   "id": "ef2b40d3-fc89-464a-9822-740ac9293d51",
   "metadata": {},
   "source": [
    "# Singlet Oxygen Steady State Concentration "
   ]
  },
  {
   "attachments": {
    "b025536b-7b20-40e4-93ee-04d1d221f719.png": {
     "image/png": "[encoded data removed]"
    }
   },
   "cell_type": "markdown",
   "id": "3b36c761-bed6-4e99-8821-ca455fe4af0a",
   "metadata": {},
   "source": [
    "![O2SS.png](attachment:b025536b-7b20-40e4-93ee-04d1d221f719.png)"
   ]
  },
  {
   "cell_type": "code",
   "execution_count": null,
   "id": "2c9803b4-0e92-4e14-afb2-29730c515253",
   "metadata": {
    "tags": []
   },
   "outputs": [],
   "source": [
    "kffa=10**8 #from Appaini (2017)\n",
    "\n",
    "SS1=kobs1/kffa\n",
    "print('Red Singlet Oxygen steady state concentration:', SS1) \n",
    "\n",
    "SS2=kobs2/kffa\n",
    "print('Green Singlet Oxygen steady state concentration 2:', SS2) \n"
   ]
  },
  {
   "cell_type": "code",
   "execution_count": null,
   "id": "03048409-c55d-4287-a683-5cd39e1e4dcc",
   "metadata": {},
   "outputs": [],
   "source": []
  }
 ],
 "metadata": {
  "kernelspec": {
   "display_name": "Python 3 (ipykernel)",
   "language": "python",
   "name": "python3"
  },
  "language_info": {
   "codemirror_mode": {
    "name": "ipython",
    "version": 3
   },
   "file_extension": ".py",
   "mimetype": "text/x-python",
   "name": "python",
   "nbconvert_exporter": "python",
   "pygments_lexer": "ipython3",
   "version": "3.10.9"
  }
 },
 "nbformat": 4,
 "nbformat_minor": 5
}
