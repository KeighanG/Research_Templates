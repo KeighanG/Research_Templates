{
 "cells": [
  {
   "cell_type": "markdown",
   "id": "443a76c5-8123-4d5a-baba-22660f82baa4",
   "metadata": {},
   "source": [
    "# Template to Plot UV-Vis Results from the Cary 5000 in the SIF"
   ]
  },
  {
   "cell_type": "markdown",
   "id": "de3d8928-ff7f-457c-b253-707f0103d74f",
   "metadata": {},
   "source": [
    "# Things to note before using this template\n",
    "- Everywhere there is _____ , change a name to match the name of your file\n",
    "- When you are pulling out the absorbance data, change the sequential order of the \"unnamed\" variables to match the order you took measurements \n",
    "- Make sure you upload the csv data files from UV-Vis, they should work in the format that the UV-Vis software provides them, otherwise convert it to UTF-8 encoded csv files (but only if you need to, its easier to just upload the files directly from UV-Vis)\n",
    "\n",
    "- Any questions/comments/suggestions can be sent to Keighan Gemmell (keighan@chem.ubc.ca) \n",
    "- Last updated on May 29th, 2023"
   ]
  },
  {
   "cell_type": "code",
   "execution_count": null,
   "id": "ccb977e2-54e7-47e9-9762-ac19fae2d7c8",
   "metadata": {},
   "outputs": [],
   "source": [
    "#import packages\n",
    "import matplotlib.pyplot as plt \n",
    "import pandas as pd\n",
    "import numpy as np"
   ]
  },
  {
   "cell_type": "markdown",
   "id": "763b4bb8-9cb1-44c0-9aea-bf3fc3614eba",
   "metadata": {},
   "source": [
    "# Load in Irradiance data"
   ]
  },
  {
   "cell_type": "code",
   "execution_count": null,
   "id": "5b258a8d-5273-4816-a221-b8131db619f3",
   "metadata": {},
   "outputs": [],
   "source": [
    "#load in irradiance data\n",
    "df3 = pd.read_csv('1O2 Quantum Yield Template.csv')\n",
    "Irr=df3['Unnamed: 4']\n",
    "n=4\n",
    "Irr=Irr[n:605]\n",
    "Irr=Irr.astype(float)\n"
   ]
  },
  {
   "cell_type": "markdown",
   "id": "16d8ec46-4854-41c5-b670-d6a4f080f33b",
   "metadata": {},
   "source": [
    "# Before Irradiation"
   ]
  },
  {
   "cell_type": "code",
   "execution_count": null,
   "id": "61693b0f-d83e-471c-9440-85bc7419df71",
   "metadata": {},
   "outputs": [],
   "source": [
    "#read in csv file as pandas dataframe, skip 2nd row\n",
    "df = pd.read_csv('___.csv', skiprows=[1])\n",
    "\n",
    "wavelength=np.linspace(800,200,601) #make wavelength array\n",
    "\n",
    "df\n"
   ]
  },
  {
   "cell_type": "code",
   "execution_count": null,
   "id": "22c9a33a-a4a3-421b-b0e7-1ba5c18fc17d",
   "metadata": {},
   "outputs": [],
   "source": [
    "#extract absorbances (remember that because of the layout of the csv file the absorbances will be named \"Unnamed: x (odd number)\n",
    "sample1_abs = df['Unnamed: x'] \n",
    "sample2_abs = df['Unnamed: x']\n",
    "sample3_abs = df['Unnamed: x']\n",
    "PN_abs = df['Unnamed: x']\n",
    "blank_abs = df['Unnamed: x']\n",
    "baseline_abs = df['Unnamed: x']"
   ]
  },
  {
   "cell_type": "code",
   "execution_count": null,
   "id": "e66a8695-5473-45ca-bc71-a366ad82230d",
   "metadata": {},
   "outputs": [],
   "source": [
    "#correct for the baseline\n",
    "blank_abs=blank_abs-baseline\n",
    "PN_abs=PN_abs-baseline\n",
    "sample1_abs=sample1_abs-baseline\n",
    "sample2_abs=sample2_abs-baseline\n",
    "sample3_abs=sample3_abs-baseline\n"
   ]
  },
  {
   "cell_type": "code",
   "execution_count": null,
   "id": "f0277d61-0d1c-4f6a-a753-ea8d4b43075d",
   "metadata": {},
   "outputs": [],
   "source": [
    "# Plot the absorbance as a function of wavelength for each sample\n",
    "plt.plot(wavelength, sample1_abs, label='Sample 1')\n",
    "plt.plot(wavelength, sample2_abs, label='Sample 2')\n",
    "plt.plot(wavelength, sample3_abs, label='Sample 3')\n",
    "plt.plot(wavelength, blank_abs, label='Blank')\n",
    "plt.plot(wavelength, PN_abs, label='PN')\n",
    "\n",
    "# Add a legend and axis labels\n",
    "plt.legend()\n",
    "plt.xlabel('Wavelength (nm)')\n",
    "plt.ylabel('Absorbance')\n",
    "plt.title('Title here')\n",
    "\n",
    "# Show the plot\n",
    "plt.show()"
   ]
  },
  {
   "cell_type": "markdown",
   "id": "5a3b6068-409e-4e11-9049-4380a56380d0",
   "metadata": {},
   "source": [
    "# After Irradiation"
   ]
  },
  {
   "cell_type": "code",
   "execution_count": null,
   "id": "985e5e1f-9f6f-4742-b80b-315392790d7b",
   "metadata": {},
   "outputs": [],
   "source": [
    "#read in csv file as pandas dataframe, skip 2nd row\n",
    "df1 = pd.read_csv('____.csv', skiprows=[1]) #the 1 in df1 denotes after irradiation\n",
    "df1"
   ]
  },
  {
   "cell_type": "code",
   "execution_count": null,
   "id": "0e04711c-7c65-4edf-a9bf-c3e0d5462b76",
   "metadata": {},
   "outputs": [],
   "source": [
    "#extract absorbances (remember that because of the layout of the csv file the absorbances will be named \"Unnamed: x (odd number)\n",
    "sample1_abs_after = df1['Unnamed: x'] \n",
    "sample2_abs_after = df1['Unnamed: x']\n",
    "sample3_abs_after = df1['Unnamed: x']\n",
    "PN_abs_after = df1['Unnamed: x']\n",
    "blank_abs_after = df1['Unnamed: x']\n",
    "baseline_after = df1['Unnamed: x']\n"
   ]
  },
  {
   "cell_type": "code",
   "execution_count": null,
   "id": "9e7f7e1b-aa16-4749-b8fb-097901fa81b0",
   "metadata": {},
   "outputs": [],
   "source": [
    "#correct for the baseline\n",
    "blank_abs_after=blank_abs_after-baseline_after\n",
    "PN_abs_after=PN_abs_after-baseline_after\n",
    "sample1_abs_after=sample1_abs_after-baseline_after\n",
    "sample2_abs_after=sample2_abs_after-baseline_after\n",
    "sample3_abs_after=sample3_abs_after-baseline_after\n"
   ]
  },
  {
   "cell_type": "code",
   "execution_count": null,
   "id": "0457211c-9ca7-47c5-b756-fb5552ca16e8",
   "metadata": {},
   "outputs": [],
   "source": [
    "# Plot the absorbance as a function of wavelength for each sample\n",
    "plt.plot(wavelength, sample1_abs_after, label='Sample 1')\n",
    "plt.plot(wavelength, sample2_abs_after, label='Sample 2')\n",
    "plt.plot(wavelength, sample3_abs_after, label='Sample 3')\n",
    "plt.plot(wavelength, blank_abs_after, label='Blank')\n",
    "plt.plot(wavelength, PN_abs_after, label='PN')\n",
    "\n",
    "# Add a legend and axis labels\n",
    "plt.legend()\n",
    "plt.xlabel('Wavelength (nm)')\n",
    "plt.ylabel('Absorbance')\n",
    "plt.title('Title here (after irradiation) ')\n",
    "\n",
    "# Show the plot\n",
    "plt.show()\n"
   ]
  },
  {
   "cell_type": "markdown",
   "id": "056ff0bf-683f-406d-aa0a-417b6f68bf38",
   "metadata": {},
   "source": [
    "# Add the irradiance as a seperate y-axis"
   ]
  },
  {
   "cell_type": "code",
   "execution_count": null,
   "id": "c22a67fd-4c7b-48a6-a4c9-6964aeb2a223",
   "metadata": {},
   "outputs": [],
   "source": [
    "# Plot the absorbance as a function of wavelength for each sample\n",
    "fig,ax1=plt.subplots(figsize=(10,6))\n",
    "ax2=ax1.twinx()\n",
    "\n",
    "ax1.plot(wavelength, sample1_abs, label='Sample 1')\n",
    "ax1.plot(wavelength, sample2_abs, label='Sample 2')\n",
    "ax1.plot(wavelength, sample3_abs, label='Sample 3')\n",
    "ax1.plot(wavelength, PN_abs, label='PN')\n",
    "\n",
    "ax2.plot(wavelength,Irr,'k--',label='Irradiance')\n",
    "\n",
    "#Modify the above plotting code to the \"after irradiance\" variables if you want to see that too\n",
    "# Add a legend and axis labels\n",
    "ax1.legend()\n",
    "ax2.legend(loc='center right')\n",
    "ax1.set_xlabel('Wavelength (nm)')\n",
    "ax1.set_ylabel('Absorbance')\n",
    "ax2.set_ylabel('Irradiance ($uWcm^{-2}nm^{-1}$)')\n",
    "ax1.set_title('Title here')\n",
    "#you can limit the axes here if you want to look at a specific region of the plot\n",
    "#ax1.set_xlim(left=250, right=500) \n",
    "#ax1.set_ylim(top=1.5)\n",
    "\n",
    "#set the bottom of the figure to 0\n",
    "ax1.set_ylim(bottom=0)\n",
    "ax2.set_ylim(bottom=0)\n",
    "\n",
    "# Show the plot\n",
    "fig.show()\n",
    "\n",
    "#fig.savefig('Solvent_Comparison_UV.png') #save the figure here if you want"
   ]
  }
 ],
 "metadata": {
  "kernelspec": {
   "display_name": "Python 3 (ipykernel)",
   "language": "python",
   "name": "python3"
  },
  "language_info": {
   "codemirror_mode": {
    "name": "ipython",
    "version": 3
   },
   "file_extension": ".py",
   "mimetype": "text/x-python",
   "name": "python",
   "nbconvert_exporter": "python",
   "pygments_lexer": "ipython3",
   "version": "3.10.9"
  }
 },
 "nbformat": 4,
 "nbformat_minor": 5
}
