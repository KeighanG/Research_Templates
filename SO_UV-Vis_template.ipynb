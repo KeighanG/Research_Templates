{
 "cells": [
  {
   "cell_type": "markdown",
   "id": "443a76c5-8123-4d5a-baba-22660f82baa4",
   "metadata": {},
   "source": [
    "# Template to Plot UV-Vis Results from the Cary 5000 in the SIF"
   ]
  },
  {
   "cell_type": "markdown",
   "id": "de3d8928-ff7f-457c-b253-707f0103d74f",
   "metadata": {},
   "source": [
    "# Things to note before using this template\n",
    "- Everywhere there is _____ , change a name to match the name of your file\n",
    "- When you are pulling out the absorbance data, change the sequential order of the \"unnamed\" variables to match the order you took measurements \n",
    "- Make sure you upload the csv data files from UV-Vis, they should work in the format that the UV-Vis software provides them, otherwise convert it to UTF-8 encoded csv files (but only if you need to, its easier to just upload the files directly from UV-Vis)\n",
    "\n",
    "- Any questions/comments/suggestions can be sent to Keighan Gemmell (keighan@chem.ubc.ca) \n",
    "- Last updated on June 12th, 2023"
   ]
  },
  {
   "cell_type": "code",
   "execution_count": 1,
   "id": "ccb977e2-54e7-47e9-9762-ac19fae2d7c8",
   "metadata": {},
   "outputs": [],
   "source": [
    "#import packages\n",
    "import matplotlib.pyplot as plt \n",
    "import pandas as pd\n",
    "import numpy as np"
   ]
  },
  {
   "cell_type": "code",
   "execution_count": 3,
   "id": "a0f2dc23-8051-498f-823a-4d164d3272a6",
   "metadata": {
    "tags": []
   },
   "outputs": [],
   "source": [
    "wavelength=np.linspace(800,200,601) #make wavelength array"
   ]
  },
  {
   "cell_type": "markdown",
   "id": "763b4bb8-9cb1-44c0-9aea-bf3fc3614eba",
   "metadata": {},
   "source": [
    "# Load in Irradiance data"
   ]
  },
  {
   "cell_type": "code",
   "execution_count": 16,
   "id": "5b258a8d-5273-4816-a221-b8131db619f3",
   "metadata": {},
   "outputs": [],
   "source": [
    "#load in irradiance data\n",
    "df3 = pd.read_csv('1O2 Quantum Yield Template.csv')\n",
    "Irr=df3['Unnamed: 4']\n",
    "n=4\n",
    "Irr=Irr[n:605]\n",
    "Irr=Irr.astype(float)"
   ]
  },
  {
   "cell_type": "markdown",
   "id": "16d8ec46-4854-41c5-b670-d6a4f080f33b",
   "metadata": {},
   "source": [
    "# Load in absorbance data"
   ]
  },
  {
   "cell_type": "code",
   "execution_count": null,
   "id": "61693b0f-d83e-471c-9440-85bc7419df71",
   "metadata": {},
   "outputs": [],
   "source": [
    "#read in csv file as pandas dataframe, skip 2nd row\n",
    "df = pd.read_csv('___.csv', skiprows=[1])\n",
    "\n",
    "df"
   ]
  },
  {
   "cell_type": "code",
   "execution_count": null,
   "id": "22c9a33a-a4a3-421b-b0e7-1ba5c18fc17d",
   "metadata": {},
   "outputs": [],
   "source": [
    "#extract absorbances (remember that because of the layout of the csv file the absorbances will sometimes be named \"Unnamed: x (odd number)\n",
    "sample1_abs = df['Unnamed: x'] \n",
    "sample2_abs = df['Unnamed: x']\n",
    "sample3_abs = df['Unnamed: x']\n",
    "PN_abs = df['Unnamed: x']\n",
    "blank_abs = df['Unnamed: x']\n"
   ]
  },
  {
   "cell_type": "code",
   "execution_count": null,
   "id": "e66a8695-5473-45ca-bc71-a366ad82230d",
   "metadata": {},
   "outputs": [],
   "source": [
    "#Do the absorbance corrections\n",
    "#correct for the baseline\n",
    "PN_abs=PN_abs-blank_abs\n",
    "sample1_abs=sample1_abs-blank_abs\n",
    "sample2_abs=sample2_abs-blank_abs\n",
    "sample3_abs=sample3_abs-blank_abs\n",
    "\n",
    "#Find where Irradiation starts to be more than noise \n",
    "index_irr=np.argmax(Irr>100) #here I choose 100 as the threshold value for irradiation to matter\n",
    "\n",
    "#Subset 800nm to this wavelength in the absorbance to average for correction\n",
    "#I start from 0 because in the wavelength array 800nm is in the 0th position\n",
    "sample1_abs_subset=sample1_abs[0:index_irr]\n",
    "sample2_abs_subset=sample2_abs[0:index_irr]\n",
    "sample3_abs_subset=sample3_abs[0:index_irr]\n",
    "PN_abs_subset=PN_abs[0:index_irr]\n",
    "\n",
    "#Take the mean\n",
    "sample1_mean_correction=np.mean(sample1_abs_subset)\n",
    "sample2_mean_correction=np.mean(sample2_abs_subset)\n",
    "sample3_mean_correction=np.mean(sample3_abs_subset)\n",
    "PN_mean_correction=np.mean(PN_abs_subset)\n",
    "\n",
    "#Subtract to apply the correction\n",
    "sample1_abs=sample1_abs-sample1_mean_correction\n",
    "sample2_abs=sample2_abs-sample2_mean_correction\n",
    "sample3_abs=sample3_abs-sample3_mean_correction\n",
    "PN_abs=PN_abs-PN_mean_correction\n"
   ]
  },
  {
   "cell_type": "code",
   "execution_count": null,
   "id": "f0277d61-0d1c-4f6a-a753-ea8d4b43075d",
   "metadata": {},
   "outputs": [],
   "source": [
    "# Plot the absorbance as a function of wavelength for each sample\n",
    "plt.plot(wavelength, sample1_abs, label='Sample 1')\n",
    "plt.plot(wavelength, sample2_abs, label='Sample 2')\n",
    "plt.plot(wavelength, sample3_abs, label='Sample 3')\n",
    "plt.plot(wavelength, PN_abs, label='PN')\n",
    "\n",
    "# Add a legend and axis labels\n",
    "plt.legend()\n",
    "plt.xlabel('Wavelength (nm)')\n",
    "plt.ylabel('Absorbance')\n",
    "plt.title('Title here')\n",
    "\n",
    "# Show the plot\n",
    "plt.show()"
   ]
  },
  {
   "cell_type": "markdown",
   "id": "056ff0bf-683f-406d-aa0a-417b6f68bf38",
   "metadata": {},
   "source": [
    "# Add the irradiance as a seperate y-axis"
   ]
  },
  {
   "cell_type": "code",
   "execution_count": null,
   "id": "c22a67fd-4c7b-48a6-a4c9-6964aeb2a223",
   "metadata": {},
   "outputs": [],
   "source": [
    "# Plot the absorbance as a function of wavelength for each sample\n",
    "fig,ax1=plt.subplots(figsize=(10,6))\n",
    "ax2=ax1.twinx()\n",
    "\n",
    "ax1.plot(wavelength, sample1_abs, label='Sample 1')\n",
    "ax1.plot(wavelength, sample2_abs, label='Sample 2')\n",
    "ax1.plot(wavelength, sample3_abs, label='Sample 3')\n",
    "ax1.plot(wavelength, PN_abs, label='PN')\n",
    "\n",
    "ax2.plot(wavelength,Irr,'k--',label='Irradiance')\n",
    "\n",
    "#Modify the above plotting code to the \"after irradiance\" variables if you want to see that too\n",
    "# Add a legend and axis labels\n",
    "ax1.legend()\n",
    "ax2.legend(loc='center right')\n",
    "ax1.set_xlabel('Wavelength (nm)')\n",
    "ax1.set_ylabel('Absorbance')\n",
    "ax2.set_ylabel('Irradiance ($uWcm^{-2}nm^{-1}$)')\n",
    "ax1.set_title('Title here')\n",
    "#you can limit the axes here if you want to look at a specific region of the plot\n",
    "#ax1.set_xlim(left=250, right=500) \n",
    "#ax1.set_ylim(top=1.5)\n",
    "\n",
    "#set the bottom of the figure to 0\n",
    "ax1.set_ylim(bottom=0)\n",
    "ax2.set_ylim(bottom=0)\n",
    "\n",
    "# Show the plot\n",
    "fig.show()\n",
    "\n",
    "#fig.savefig('___.png') #save the figure here if you want"
   ]
  }
 ],
 "metadata": {
  "kernelspec": {
   "display_name": "Python 3 (ipykernel)",
   "language": "python",
   "name": "python3"
  },
  "language_info": {
   "codemirror_mode": {
    "name": "ipython",
    "version": 3
   },
   "file_extension": ".py",
   "mimetype": "text/x-python",
   "name": "python",
   "nbconvert_exporter": "python",
   "pygments_lexer": "ipython3",
   "version": "3.11.6"
  }
 },
 "nbformat": 4,
 "nbformat_minor": 5
}
