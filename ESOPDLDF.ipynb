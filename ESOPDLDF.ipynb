{
 "cells": [
  {
   "cell_type": "markdown",
   "id": "e836f04a-89ce-41ca-a2f0-d739e270dd74",
   "metadata": {},
   "source": [
    "# The Excited State Oxidant Probe Decay Linearity Determination Function (ESOPDLDF) "
   ]
  },
  {
   "cell_type": "markdown",
   "id": "84ae615a-af8d-42a4-836f-eba044af63a4",
   "metadata": {},
   "source": [
    "This function will determine if your data is linear or not. If it is linear, there will be less than a 25% change of slope when removing the later time points. If it is not linear, there will be a greater than 25% change of slope when removing later timepoints"
   ]
  },
  {
   "cell_type": "code",
   "execution_count": null,
   "id": "8121d608-4296-4c8c-86c9-897e230f1f12",
   "metadata": {},
   "outputs": [],
   "source": [
    "import matplotlib.pyplot as plt \n",
    "import pandas as pd\n",
    "import numpy as np\n",
    "import math"
   ]
  },
  {
   "cell_type": "markdown",
   "id": "cf04a925-ad8e-4e32-b49c-79ea82d56c6d",
   "metadata": {},
   "source": [
    "# For single measurements"
   ]
  },
  {
   "cell_type": "code",
   "execution_count": null,
   "id": "7e9ead92-20e4-4273-8649-fb91c964b47b",
   "metadata": {},
   "outputs": [],
   "source": [
    "def namestr(obj):\n",
    "   return [name for name in globals() if globals()[name] is obj][0]\n",
    "\n",
    "sample=samplexrawdata #provide a name of whatever individual sample you are running \n",
    "timesx=timesx #provide the times of whatever individual sample you are running \n",
    "#Don't worry, np.log is the natural logorithm, not base 10 (np.log10 is base 10)\n",
    "alllog=np.log([i/sample[0] for i in sample])\n",
    "remove1log=np.log([i/sample[0] for i in sample[:-1]])\n",
    "remove2log=np.log([i/sample[0] for i in sample[:-2]])\n",
    "timesremove1=timesx[:-1]\n",
    "timesremove2=timesx[:-2]\n",
    "\n",
    "kobsall=-(np.polyfit(timesx,alllog,1)[0])\n",
    "kobsremove1=-(np.polyfit(timesremove1,remove1log,1)[0])\n",
    "kobsremove2=-(np.polyfit(timesremove2,remove2log,1)[0])\n",
    "percentchange1=(1-(kobsall/kobsremove2))*100\n",
    "percentchange2=(1-(kobsall/kobsremove1))*100\n",
    "\n",
    "print(f\"FOR {namestr(sample)}:\")\n",
    "print(f\"The change in kobs when removing the last time point is: {round(percentchange2)}%\")\n",
    "print(f\"The change in kobs when removing the last 2 time points is: {round(percentchange1)}%\\n\")\n",
    "\n",
    "if percentchange1>25 and percentchange2<25:\n",
    "    print(f\"UH OH! There is a large change in kobs when removing the last 2 timepoints\")\n",
    "    print(f\"{round(percentchange1)}% > 25%,  Sorry champ this data is no good :(\")\n",
    "    print(f\"I'll remove the last 2 timepoints for you\")\n",
    "    sample=sample[:-2]\n",
    "    timesx=timesremove2\n",
    "elif percentchange2>25 and percentchange1>25:\n",
    "    print(f\"UH OH! There is a large change in kobs when removing the last timepoint\")\n",
    "    print(f\"{round(percentchange2)}% > 25%,  Sorry champ this data is no good :(\")\n",
    "    print(f\"I'll remove the last timepoint for you\")\n",
    "    sample=sample[:-1]\n",
    "    timesx=timesremove1\n",
    "else:\n",
    "    print('Data looks good! Proceed forward with the analysis using all the data points')\n",
    "\n",
    "samplex=sample #change the x to your sample number \n",
    "timesx=timesx #change the x to your sample number on the left of equal sign"
   ]
  },
  {
   "cell_type": "markdown",
   "id": "de551d3d-6a4b-422b-b721-74da44c54eb7",
   "metadata": {},
   "source": [
    "# For 2 measurements"
   ]
  },
  {
   "cell_type": "code",
   "execution_count": null,
   "id": "9ca3fe8d-1c12-4a7a-8a49-d70acff3a486",
   "metadata": {},
   "outputs": [],
   "source": [
    "samples=[sample1rawdata,sample2rawdata]\n",
    "linearsamples=[]\n",
    "timeslist=[]\n",
    "\n",
    "def namestr(obj):\n",
    "   return [name for name in globals() if globals()[name] is obj][0]\n",
    "\n",
    "for i in samples:\n",
    "    sample=i\n",
    "    #Don't worry, np.log is the natural logorithm, not base 10 (np.log10 is base 10)\n",
    "    alllog=np.log([i/sample[0] for i in sample])\n",
    "    remove1log=np.log([i/sample[0] for i in sample[:-1]])\n",
    "    remove2log=np.log([i/sample[0] for i in sample[:-2]])\n",
    "    timesremove1=times[:-1]\n",
    "    timesremove2=times[:-2]\n",
    "    \n",
    "    kobsall=-(np.polyfit(times,alllog,1)[0])\n",
    "    kobsremove1=-(np.polyfit(timesremove1,remove1log,1)[0])\n",
    "    kobsremove2=-(np.polyfit(timesremove2,remove2log,1)[0])\n",
    "    percentchange1=(1-(kobsall/kobsremove2))*100\n",
    "    percentchange2=(1-(kobsall/kobsremove1))*100\n",
    "\n",
    "    print(f\"FOR {namestr(i)}:\")\n",
    "    print(f\"The change in kobs when removing the last time point is: {round(percentchange2)}%\")\n",
    "    print(f\"The change in kobs when removing the last 2 time points is: {round(percentchange1)}%\\n\")\n",
    "    \n",
    "    if percentchange1>25 and percentchange2<25:\n",
    "        print(f\"UH OH! There is a large change in kobs when removing the last 2 timepoints\")\n",
    "        print(f\"{round(percentchange1)}% > 25%, Sorry champ this data is no good :(\")\n",
    "        print(f\"I'll remove the last 2 timepoints for you\")\n",
    "        linearsamples.append(i[:-2])\n",
    "        timeslist.append(timesremove2)\n",
    "        print('Done! Move forward with the analysis now! ')\n",
    "        print('....................................................................................\\n')\n",
    "    elif percentchange2>25 and percentchange1>25:\n",
    "        print(f\"UH OH! There is a large change in kobs when removing the last timepoint\")\n",
    "        print(f\"{round(percentchange2)}% > 25%,  Sorry champ this data is no good :(\")\n",
    "        print(f\"I'll remove the last timepoint for you\")\n",
    "        linearsamples.append(i[:-1])\n",
    "        timeslist.append(timesremove1)\n",
    "        print('Done! Move forward with the analysis now!')\n",
    "        print('....................................................................................\\n')\n",
    "    else:\n",
    "        linearsamples.append(i)\n",
    "        timeslist.append(times)\n",
    "        print('Data looks good! Proceed forward with the analysis using all the data points')\n",
    "        print('....................................................................................\\n')\n",
    "\n",
    "sample1=linearsamples[0]\n",
    "sample2=linearsamples[1]\n",
    "\n",
    "times1=timeslist[0]\n",
    "times2=timeslist[1]"
   ]
  },
  {
   "cell_type": "markdown",
   "id": "8a0a7915-5f7f-4825-9f07-6477634c76aa",
   "metadata": {},
   "source": [
    "# For triplicate measurements"
   ]
  },
  {
   "cell_type": "code",
   "execution_count": null,
   "id": "360665e5-4a3f-476f-a5d5-fecdab530cca",
   "metadata": {},
   "outputs": [],
   "source": [
    "samples=[sample1rawdata,sample2rawdata,sample3rawdata]\n",
    "linearsamples=[]\n",
    "timeslist=[]\n",
    "\n",
    "def namestr(obj):\n",
    "   return [name for name in globals() if globals()[name] is obj][0]\n",
    "\n",
    "for i in samples:\n",
    "    sample=i\n",
    "    #Don't worry, np.log is the natural logorithm, not base 10 (np.log10 is base 10)\n",
    "    alllog=np.log([i/sample[0] for i in sample])\n",
    "    remove1log=np.log([i/sample[0] for i in sample[:-1]])\n",
    "    remove2log=np.log([i/sample[0] for i in sample[:-2]])\n",
    "    timesremove1=times[:-1]\n",
    "    timesremove2=times[:-2]\n",
    "    \n",
    "    kobsall=-(np.polyfit(times,alllog,1)[0])\n",
    "    kobsremove1=-(np.polyfit(timesremove1,remove1log,1)[0])\n",
    "    kobsremove2=-(np.polyfit(timesremove2,remove2log,1)[0])\n",
    "    percentchange1=(1-(kobsall/kobsremove2))*100\n",
    "    percentchange2=(1-(kobsall/kobsremove1))*100\n",
    "\n",
    "    print(f\"FOR {namestr(i)}:\")\n",
    "    print(f\"The change in kobs when removing the last time point is: {round(percentchange2)}%\")\n",
    "    print(f\"The change in kobs when removing the last 2 time points is: {round(percentchange1)}%\\n\")\n",
    "    \n",
    "    if percentchange1>25 and percentchange2<25:\n",
    "        print(f\"UH OH! There is a large change in kobs when removing the last 2 timepoints\")\n",
    "        print(f\"{round(percentchange1)}% > 25%, Sorry champ this data is no good :(\")\n",
    "        print(f\"I'll remove the last 2 timepoints for you\")\n",
    "        linearsamples.append(i[:-2])\n",
    "        timeslist.append(timesremove2)\n",
    "        print('Done! Move forward with the analysis now! ')\n",
    "        print('....................................................................................\\n')\n",
    "    elif percentchange2>25 and percentchange1>25:\n",
    "        print(f\"UH OH! There is a large change in kobs when removing the last timepoint\")\n",
    "        print(f\"{round(percentchange2)}% > 25%,  Sorry champ this data is no good :(\")\n",
    "        print(f\"I'll remove the last timepoint for you\")\n",
    "        linearsamples.append(i[:-1])\n",
    "        timeslist.append(timesremove1)\n",
    "        print('Done! Move forward with the analysis now!')\n",
    "        print('....................................................................................\\n')\n",
    "    else:\n",
    "        linearsamples.append(i)\n",
    "        timeslist.append(times)\n",
    "        print('Data looks good! Proceed forward with the analysis using all the data points')\n",
    "        print('....................................................................................\\n')\n",
    "\n",
    "sample1=linearsamples[0]\n",
    "sample2=linearsamples[1]\n",
    "sample3=linearsamples[2]\n",
    "\n",
    "times1=timeslist[0]\n",
    "times2=timeslist[1]\n",
    "times3=timeslist[2]"
   ]
  },
  {
   "cell_type": "code",
   "execution_count": null,
   "id": "021bf175-d47e-4f1f-994d-2a1423a9064e",
   "metadata": {},
   "outputs": [],
   "source": []
  },
  {
   "cell_type": "code",
   "execution_count": null,
   "id": "ccd79285-5fe9-48b4-8548-4089164e7dbd",
   "metadata": {},
   "outputs": [],
   "source": []
  },
  {
   "cell_type": "code",
   "execution_count": null,
   "id": "36c0db24-4f47-45df-9502-b6b151fe996d",
   "metadata": {},
   "outputs": [],
   "source": []
  },
  {
   "cell_type": "code",
   "execution_count": null,
   "id": "8bd491c0-7ed6-4940-a9d3-c5742a73561e",
   "metadata": {},
   "outputs": [],
   "source": []
  }
 ],
 "metadata": {
  "kernelspec": {
   "display_name": "Python 3 (ipykernel)",
   "language": "python",
   "name": "python3"
  },
  "language_info": {
   "codemirror_mode": {
    "name": "ipython",
    "version": 3
   },
   "file_extension": ".py",
   "mimetype": "text/x-python",
   "name": "python",
   "nbconvert_exporter": "python",
   "pygments_lexer": "ipython3",
   "version": "3.11.4"
  }
 },
 "nbformat": 4,
 "nbformat_minor": 5
}
